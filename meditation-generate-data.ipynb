{
 "cells": [
  {
   "cell_type": "code",
   "execution_count": 1,
   "id": "23709abc-0846-49c5-8a93-201ef38558c8",
   "metadata": {},
   "outputs": [
    {
     "name": "stdout",
     "output_type": "stream",
     "text": [
      "headers loaded\n"
     ]
    }
   ],
   "source": [
    "# generate training data\n",
    "import requests\n",
    "import json\n",
    "import os\n",
    "from dotenv import load_dotenv\n",
    "load_dotenv()\n",
    "openai_key = os.getenv('openaikey')\n",
    "\n",
    "if openai_key:\n",
    "    headers = {\n",
    "        \"Content-Type\": \"application/json\",\n",
    "        \"Authorization\": \"Bearer \"+openai_key,\n",
    "    }\n",
    "    print('headers loaded')"
   ]
  },
  {
   "cell_type": "code",
   "execution_count": 2,
   "id": "2e4e4f60-0e3b-4933-a5bf-95ecc4b2b6e2",
   "metadata": {},
   "outputs": [],
   "source": [
    "# Brainstorm intentions and focuses with ChatGPT\n",
    "## > We are coming up with themes for mindfulness meditations. \n",
    "##   Generate a list of topics or feelings that might lead someone to want to do a mindful meditation.\n",
    "# ...cultivated list...\n",
    "## > Ok, now for each of these intentions, come up with 5 focuses:\n",
    "## > Great, now, convert this to a python dictionary, with the intentions as keys and the focuses as a value list. \n",
    "##   Keep everything lowercase and remove periods.\n",
    "intentions = {\n",
    "    \"reduce stress\": [\n",
    "        \"focusing on deep, rhythmic breathing\",\n",
    "        \"visualization of a calm and peaceful place\",\n",
    "        \"mindful awareness of bodily sensations to release tension\",\n",
    "        \"guided imagery to foster relaxation\",\n",
    "        \"progressive muscle relaxation, from toes to head\"\n",
    "    ],\n",
    "    \"balance emotions\": [\n",
    "        \"observing emotions without judgment\",\n",
    "        \"breathing exercises to stabilize mood swings\",\n",
    "        \"visualization of emotional equilibrium\",\n",
    "        \"mindful acknowledgment of positive and negative feelings\",\n",
    "        \"cultivating self-compassion and understanding\"\n",
    "    ],\n",
    "    \"improve focus\": [\n",
    "        \"concentration on a single object or sound\",\n",
    "        \"mindful listening to ambient sounds\",\n",
    "        \"body scan meditation for enhanced awareness\",\n",
    "        \"visualization of mental clarity and sharpness\",\n",
    "        \"practicing open awareness meditation\"\n",
    "    ],\n",
    "    \"manage anxiety\": [\n",
    "        \"deep breathing techniques for calming\",\n",
    "        \"acknowledging anxious thoughts without attachment\",\n",
    "        \"visualization of releasing worries and fears\",\n",
    "        \"grounding exercises, focusing on the present moment\",\n",
    "        \"guided imagery for inner peace\"\n",
    "    ],\n",
    "    \"enhance self-awareness\": [\n",
    "        \"reflecting on personal values and beliefs\",\n",
    "        \"observing thoughts without judgment\",\n",
    "        \"body scan to understand physical cues and sensations\",\n",
    "        \"contemplating personal growth and changes over time\",\n",
    "        \"meditation on self-identity and purpose\"\n",
    "    ],\n",
    "    \"improve sleep\": [\n",
    "        \"progressive muscle relaxation for physical ease\",\n",
    "        \"deep breathing for slowing down the mind\",\n",
    "        \"visualization of drifting into peaceful sleep\",\n",
    "        \"guided imagery of a tranquil night\",\n",
    "        \"mindful review of the day for closure\"\n",
    "    ],\n",
    "    \"manage anger\": [\n",
    "        \"acknowledging anger without acting on it\",\n",
    "        \"deep breathing to cool down heated emotions\",\n",
    "        \"visualization of transforming anger into understanding\",\n",
    "        \"reflecting on the root causes of anger\",\n",
    "        \"practicing forgiveness and letting go\"\n",
    "    ],\n",
    "    \"develop compassion\": [\n",
    "        \"loving-kindness meditation for others and self\",\n",
    "        \"visualization of empathy and understanding\",\n",
    "        \"reflecting on common human experiences\",\n",
    "        \"cultivating a non-judgmental attitude\",\n",
    "        \"practicing gratitude and appreciation\"\n",
    "    ],\n",
    "    \"cope with grief\": [\n",
    "        \"acknowledging feelings of loss and sadness\",\n",
    "        \"deep breathing for emotional release\",\n",
    "        \"visualization of cherished memories\",\n",
    "        \"mindful walking to process grief\",\n",
    "        \"reflecting on the cycle of life and acceptance\"\n",
    "    ],\n",
    "    \"increase mindfulness\": [\n",
    "        \"practicing present moment awareness\",\n",
    "        \"mindful eating to savor each bite\",\n",
    "        \"observing the natural world with curiosity\",\n",
    "        \"mindful movement or walking meditation\",\n",
    "        \"daily gratitude reflection\"\n",
    "    ],\n",
    "    \"expand creativity\": [\n",
    "        \"visualization of creative energy flow\",\n",
    "        \"free-flowing thought observation\",\n",
    "        \"mindful engagement with art or music\",\n",
    "        \"breathing exercises to open the mind\",\n",
    "        \"reflecting on inspiring themes or ideas\"\n",
    "    ],\n",
    "    \"build resilience\": [\n",
    "        \"reflecting on past challenges and growth\",\n",
    "        \"visualization of inner strength and adaptability\",\n",
    "        \"breathing through difficulties\",\n",
    "        \"cultivating a positive outlook\",\n",
    "        \"grounding exercises in the face of adversity\"\n",
    "    ],\n",
    "    \"reduce negative thoughts\": [\n",
    "        \"recognizing and labeling negative thoughts\",\n",
    "        \"deep breathing to create mental space\",\n",
    "        \"visualization of letting go of negativity\",\n",
    "        \"mindful redirection of focus to positivity\",\n",
    "        \"practicing gratitude to counter negative biases\"\n",
    "    ],\n",
    "    \"cultivate gratitude\": [\n",
    "        \"daily mental acknowledgment of things to be grateful for\",\n",
    "        \"reflecting on positive life aspects\",\n",
    "        \"deep breathing with a focus on thankfulness\",\n",
    "        \"visualization of life's gifts\",\n",
    "        \"acknowledging acts of kindness received and given\"\n",
    "    ],\n",
    "    \"boost self-esteem\": [\n",
    "        \"affirmations of self-worth and capability\",\n",
    "        \"visualization of personal achievements\",\n",
    "        \"reflecting on unique strengths and qualities\",\n",
    "        \"mindful acceptance of compliments\",\n",
    "        \"body positivity exercises\"\n",
    "    ],\n",
    "    \"overcome perfectionism\": [\n",
    "        \"acknowledging imperfections with kindness\",\n",
    "        \"visualization of realistic goals and expectations\",\n",
    "        \"mindful acceptance of mistakes as learning opportunities\",\n",
    "        \"reflecting on the value of progress over perfection\",\n",
    "        \"deep breathing to let go of self-criticism\"\n",
    "    ],\n",
    "    # a blank one to get some generic meditations\n",
    "    \"\":[None,None,None,None,None]\n",
    "}"
   ]
  },
  {
   "cell_type": "code",
   "execution_count": 3,
   "id": "5844c4f0-0604-41d7-a48b-fc4269e1bad7",
   "metadata": {},
   "outputs": [],
   "source": [
    "def get_prompt(objective, focus = None):\n",
    "    intention = '' if objective == '' else ' to '+objective\n",
    "    if focus:\n",
    "        intention += ' with a focus on '+focus\n",
    "    return f\"You are a secular buddhist monk. Give me a daily meditation{intention}. Do not include any introductory text.\"\n",
    "\n",
    "def get_meditation(json_data):\n",
    "    response = requests.post(\n",
    "        \"https://api.openai.com/v1/chat/completions\",\n",
    "        headers=headers,\n",
    "        json=json_data,\n",
    "    )\n",
    "    result = response.json()\n",
    "    meditation = None\n",
    "    if result.get('choices'):\n",
    "        cost = result['usage']['prompt_tokens'] * 1e-6 + result['usage']['completion_tokens'] * 2e-6\n",
    "        meditation = result['choices'][0]['message']['content']\n",
    "    return meditation, cost"
   ]
  },
  {
   "cell_type": "code",
   "execution_count": 4,
   "id": "0d88f4b3-ef7a-41d4-9255-c1e6d75a81f4",
   "metadata": {},
   "outputs": [
    {
     "data": {
      "text/plain": [
       "('Sit comfortably, close your eyes, and take a deep breath in, filling your lungs completely. As you exhale, release any tension or negativity you may be holding onto.\\n\\nNow, bring your attention to your breath, allowing each inhale and exhale to flow naturally. Be fully present in this moment.\\n\\nShift your focus inward and bring forth thoughts of self-compassion and kindness. Visualize a light within you that represents your inherent worth and unique strengths.\\n\\nWith each breath, imagine this light growing brighter and spreading to every part of your being. Feel the warmth and positivity flowing throughout your body.\\n\\nAs you continue to breathe, choose a positive affirmation that resonates with you. It could be a simple phrase like, \"I am enough\" or \"I embrace my worth.\" Repeat this affirmation silently or out loud, emphasizing each word with genuine belief.\\n\\nReflect on your accomplishments, big or small, and the challenges you have overcome. Remind yourself of your resilience and capabilities.\\n\\nIf self-critical thoughts arise, acknowledge them without judgment and gently guide your attention back to your affirmations and the light within you.\\n\\nGive yourself permission to let go of self-doubt and negative self-talk. Embrace self-acceptance and embrace the truth that you are valuable and deserving of love and respect.\\n\\nTake a few more deep breaths, feeling the positivity and self-assurance filling your entire being.\\n\\nWhen you are ready, gently open your eyes, carry this newfound self-esteem with you throughout your day, and be kind to yourself and others.',\n",
       " 0.000652)"
      ]
     },
     "execution_count": 4,
     "metadata": {},
     "output_type": "execute_result"
    }
   ],
   "source": [
    "# test\n",
    "oo = 'boost self-esteem'\n",
    "json_data = {\n",
    "    \"model\": 'gpt-3.5-turbo',\n",
    "    \"messages\": [{\"role\": \"user\", \"content\": get_prompt(oo)}],\n",
    "    \"temperature\": 1.1,\n",
    "}\n",
    "get_meditation(json_data)"
   ]
  },
  {
   "cell_type": "code",
   "execution_count": 8,
   "id": "9e6b4300-1278-42bf-8811-da0048b1f218",
   "metadata": {},
   "outputs": [
    {
     "name": "stdout",
     "output_type": "stream",
     "text": [
      "\n",
      "reduce stress\n",
      "***************\n",
      "balance emotions\n",
      "***************\n",
      "improve focus\n",
      "***************\n",
      "manage anxiety\n",
      "***************\n",
      "enhance self-awareness\n",
      "***************\n",
      "improve sleep\n",
      "***************\n",
      "manage anger\n",
      "***************\n",
      "develop compassion\n",
      "***************\n",
      "cope with grief\n",
      "***************\n",
      "increase mindfulness\n",
      "***************\n",
      "expand creativity\n",
      "***************\n",
      "build resilience\n",
      "***************\n",
      "reduce negative thoughts\n",
      "***************\n",
      "cultivate gratitude\n",
      "***************\n",
      "boost self-esteem\n",
      "***************\n",
      "overcome perfectionism\n",
      "***************\n",
      "\n",
      "***************\n",
      "total cost $ 0.21\n"
     ]
    }
   ],
   "source": [
    "results = {}\n",
    "nper = 3 # number of meditations per intention\n",
    "cost = 0 # cost tally\n",
    "\n",
    "for objective, ff in intentions.items():\n",
    "    print('\\n'+objective)\n",
    "    label_objective = 'general' if objective == '' else objective\n",
    "    # initialize\n",
    "    if label_objective not in results:\n",
    "        results[label_objective] = []\n",
    "    for focus in ff:\n",
    "        #print(focus+' ~ ')\n",
    "        json_data = {\n",
    "            \"model\": 'gpt-3.5-turbo',\n",
    "            \"messages\": [{\"role\": \"user\", \"content\": get_prompt(objective, focus)}],\n",
    "            \"temperature\": 1.1,\n",
    "        }\n",
    "        for ii in range(nper):\n",
    "            meditation, runcost = get_meditation(json_data)\n",
    "            cost += runcost\n",
    "            results[label_objective].append(meditation)\n",
    "            print(\"*\",end=\"\")\n",
    "print(\"\\ntotal cost $\",str(round(cost,2)))"
   ]
  },
  {
   "cell_type": "code",
   "execution_count": 31,
   "id": "de884b59-3b4b-46e1-af45-f278047c30f7",
   "metadata": {},
   "outputs": [
    {
     "name": "stdout",
     "output_type": "stream",
     "text": [
      "First, Find a quiet and comfortable spot where you can sit or lie down. Close your eyes gently if it feels comfortable, allowing yourself to relax and settle into a comfortable posture.\n",
      "\n",
      "Next, Take a few deep, soothing breaths, letting go of any tension or stress you may be feeling. Allow the breath to become your anchor, bringing your focus to the present moment.\n",
      "\n",
      "Then, Begin by observing the sensations in your body. Bring your awareness to the physical sensations that arise as you breathe in and out. Notice the subtle movements, temperature, and any areas of tension or relaxation.\n",
      "\n",
      "Gradually shift your attention towards your emotions. Without judgment or trying to change anything, simply observe how your emotions manifest in the present moment. It might be a feeling of joy, sadness, anger, fear, or any other emotion. Pay attention to its presence, intensity, and how it affects different areas of your body.\n",
      "\n",
      "Allow the emotions to be just as they are, without trying to suppress or hold onto them. Instead, practice embracing each emotion with an open and accepting attitude. Recognize that emotions are natural, impermanent phenomena that arise and pass away.\n",
      "\n",
      "If the mind gets carried away by thoughts or stories related to the emotions, gently bring your attention back to the direct experience of them in your body. Avoid getting caught up in judgments or opinions about the emotions; simply observe them as they come and go.\n",
      "\n",
      "As you connect with the ebb and flow of your emotions, remember to practice self-compassion and kindness. Offer yourself understanding and acceptance, acknowledging that everyone experiences emotional ups and downs. Cultivate a sense of non-identification with the emotions, recognizing that they are not ‘you’ or defining aspects of your being.\n",
      "\n",
      "Stay with this practice for as long as it feels comfortable, dedicating a few minutes to several minutes of daily practice. Gradually, expand your practice to include even the most challenging emotions, grounding yourself in the present moment and embracing your emotional landscape without judgment.\n",
      "\n",
      "Conclude the meditation by gently shifting your attention back to your breath, allowing it to soothe and ground you. Take a moment to express gratitude for this practice and the insights it may have offered. When you're ready, slowly open your eyes and carry the sense of awareness and non-judgment into your day.\n",
      "\n",
      "Remember, this guided meditation is a simple tool to support your journey of observing and balancing emotions without judgment. Feel free to modify it in any way that aligns with your personal practice and preferences.\n"
     ]
    }
   ],
   "source": [
    "import re\n",
    "\n",
    "# Define a function to convert numbers to spoken words\n",
    "def convert_numbers_to_spoken_words(match):\n",
    "    number = match.group(0)\n",
    "    spoken_words = {\n",
    "        '1. ': 'First, ',\n",
    "        '2. ': 'Next, ',\n",
    "        '3. ': 'Then, ',\n",
    "        '4. ': '',\n",
    "        '5. ': '',\n",
    "        '6. ': '',\n",
    "        '7. ': '',\n",
    "        '8. ': '',\n",
    "        '9. ': '',\n",
    "        '10. ': '', \n",
    "        '11. ': '', \n",
    "        '12. ': '', \n",
    "        '13. ': '', \n",
    "        '14. ': '', \n",
    "        '15. ': '',  # You can extend this for more numbers if needed\n",
    "    }\n",
    "    return spoken_words.get(number, number)\n",
    "\n",
    "def cleanup_meditation(input_text):\n",
    "    # Use re.sub to replace the matched text with an empty string\n",
    "    result_text = re.sub(r'^Daily .*\\n', '', input_text)\n",
    "    # Use regular expressions to find and replace numbers with spoken words\n",
    "    converted_text = re.sub(r'\\d+\\.\\s', convert_numbers_to_spoken_words, result_text)\n",
    "    return converted_text.lstrip('\\n')\n",
    "\n",
    "print(cleanup_meditation(results['balance emotions'][2]))"
   ]
  },
  {
   "cell_type": "code",
   "execution_count": 25,
   "id": "dd113456-a68e-4be9-a504-ab8cd7bf09b7",
   "metadata": {},
   "outputs": [],
   "source": [
    "# write json for importing into huggingface dataset\n",
    "import json\n",
    "\n",
    "ds_out = []\n",
    "for t in results:\n",
    "    for m in results[t]:\n",
    "        ds_out.append({'theme':t,'meditation':cleanup_meditation(m)})\n",
    "with open('meditation-dataset.json', 'w') as fp:\n",
    "    json.dump(ds_out, fp)\n",
    "\n",
    "# now upload to huggingface"
   ]
  },
  {
   "cell_type": "code",
   "execution_count": 26,
   "id": "14aae906-ad1b-40c3-9ff2-94c9e53646b2",
   "metadata": {},
   "outputs": [],
   "source": [
    "import re\n",
    "nsentences = []\n",
    "for t in results:\n",
    "    for m in results[t]:\n",
    "        mt = re.sub(r'[1-9]\\.|[1-9] \\.', '', m)\n",
    "        nsentences.append(len(m.split(\".\")))"
   ]
  },
  {
   "cell_type": "code",
   "execution_count": 27,
   "id": "8d9b5bc5-781b-413a-bd31-ff957e813a19",
   "metadata": {},
   "outputs": [
    {
     "data": {
      "text/plain": [
       "24.50588235294118"
      ]
     },
     "execution_count": 27,
     "metadata": {},
     "output_type": "execute_result"
    }
   ],
   "source": [
    "sum(nsentences)/len(nsentences) # average number of sentences per meditation"
   ]
  },
  {
   "cell_type": "code",
   "execution_count": 32,
   "id": "886ab803-57ab-4f3f-a911-38dacbdc4e3f",
   "metadata": {},
   "outputs": [
    {
     "name": "stdout",
     "output_type": "stream",
     "text": [
      "Downloading and preparing dataset json/berdaniera--meditation to /Users/berdaniera/.cache/huggingface/datasets/berdaniera___json/berdaniera--meditation-4a72f7da580b0746/0.0.0/e347ab1c932092252e717ff3f949105a4dd28b27e842dd53157d2f72e276c2e4...\n"
     ]
    },
    {
     "data": {
      "application/vnd.jupyter.widget-view+json": {
       "model_id": "9f0fb59be1bf41aa89b2a96a1b8ae076",
       "version_major": 2,
       "version_minor": 0
      },
      "text/plain": [
       "Downloading data files:   0%|          | 0/1 [00:00<?, ?it/s]"
      ]
     },
     "metadata": {},
     "output_type": "display_data"
    },
    {
     "data": {
      "application/vnd.jupyter.widget-view+json": {
       "model_id": "1370d5cf4b094ac9a7e41a42e19a58ae",
       "version_major": 2,
       "version_minor": 0
      },
      "text/plain": [
       "Downloading data:   0%|          | 0.00/527k [00:00<?, ?B/s]"
      ]
     },
     "metadata": {},
     "output_type": "display_data"
    },
    {
     "data": {
      "application/vnd.jupyter.widget-view+json": {
       "model_id": "fa14150ab5a748bba64631b7e4e4d020",
       "version_major": 2,
       "version_minor": 0
      },
      "text/plain": [
       "Extracting data files:   0%|          | 0/1 [00:00<?, ?it/s]"
      ]
     },
     "metadata": {},
     "output_type": "display_data"
    },
    {
     "data": {
      "application/vnd.jupyter.widget-view+json": {
       "model_id": "7bfa5b8b334549bd9cd07c497b1d202b",
       "version_major": 2,
       "version_minor": 0
      },
      "text/plain": [
       "Generating train split: 0 examples [00:00, ? examples/s]"
      ]
     },
     "metadata": {},
     "output_type": "display_data"
    },
    {
     "name": "stdout",
     "output_type": "stream",
     "text": [
      "Dataset json downloaded and prepared to /Users/berdaniera/.cache/huggingface/datasets/berdaniera___json/berdaniera--meditation-4a72f7da580b0746/0.0.0/e347ab1c932092252e717ff3f949105a4dd28b27e842dd53157d2f72e276c2e4. Subsequent calls will reuse this data.\n"
     ]
    },
    {
     "data": {
      "text/plain": [
       "Dataset({\n",
       "    features: ['theme', 'meditation'],\n",
       "    num_rows: 255\n",
       "})"
      ]
     },
     "execution_count": 32,
     "metadata": {},
     "output_type": "execute_result"
    }
   ],
   "source": [
    "from datasets import load_dataset\n",
    "dataset = load_dataset(\"berdaniera/meditation\", split=\"train\")\n",
    "dataset"
   ]
  },
  {
   "cell_type": "code",
   "execution_count": null,
   "id": "4a1db6ca-a81a-45f3-ac87-fb3a81a3eed0",
   "metadata": {},
   "outputs": [],
   "source": []
  }
 ],
 "metadata": {
  "kernelspec": {
   "display_name": "Python 3 (ipykernel)",
   "language": "python",
   "name": "python3"
  },
  "language_info": {
   "codemirror_mode": {
    "name": "ipython",
    "version": 3
   },
   "file_extension": ".py",
   "mimetype": "text/x-python",
   "name": "python",
   "nbconvert_exporter": "python",
   "pygments_lexer": "ipython3",
   "version": "3.11.6"
  }
 },
 "nbformat": 4,
 "nbformat_minor": 5
}
